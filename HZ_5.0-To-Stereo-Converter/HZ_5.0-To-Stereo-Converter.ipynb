{
 "cells": [
  {
   "cell_type": "code",
   "execution_count": 94,
   "id": "d5ef74bf",
   "metadata": {},
   "outputs": [],
   "source": [
    "import numpy as np\n",
    "import librosa as lr\n",
    "from scipy import signal"
   ]
  },
  {
   "cell_type": "code",
   "execution_count": 95,
   "id": "6a697c8f",
   "metadata": {},
   "outputs": [],
   "source": [
    "# implement a 5.0 HRTFs\n",
    "\n",
    "HRTF_center, sr = lr.load('CenterChannel.wav'); \n",
    "HRTF_left, sr = lr.load('LeftChannel.wav'); \n",
    "HRTF_right, sr = lr.load('RightChannel.wav'); \n",
    "HRTF_leftsurround, sr = lr.load('LeftSurroundChannel.wav'); \n",
    "HRTF_rightsurround, sr = lr.load('RightSurroundChannel.wav'); "
   ]
  },
  {
   "cell_type": "code",
   "execution_count": 96,
   "id": "bcc55cdf",
   "metadata": {},
   "outputs": [],
   "source": [
    "# Create upmixed HRTF with an additional LFE channel\n",
    "HRTF_upmixed = np.zeros((HRTF_center.shape[0], 6));  # 6 channels for 5.1\n",
    "HRTF_upmixed[:, :5] = np.column_stack((HRTF_center, HRTF_left, HRTF_right, HRTF_leftsurround, HRTF_rightsurround));\n",
    "HRTF_upmixed[:, 5] = np.mean(HRTF_upmixed[:, :5], axis=1);  # create an LFE channel"
   ]
  },
  {
   "cell_type": "code",
   "execution_count": 97,
   "id": "74b35b8e",
   "metadata": {},
   "outputs": [],
   "source": [
    "# load surround sound file\n",
    "surround_soundfile, sr = sf.read('SurroundSound.wav');"
   ]
  },
  {
   "cell_type": "code",
   "execution_count": 98,
   "id": "ca499483",
   "metadata": {},
   "outputs": [],
   "source": [
    "# Apply upmixed HRTFs to surround sound channels\n",
    "center_channel = signal.convolve(surround_soundfile[:, 0], HRTF_upmixed[:, 0], mode='same');\n",
    "frontleft_channel = signal.convolve(surround_soundfile[:, 1], HRTF_upmixed[:, 1], mode='same');\n",
    "frontright_channel = signal.convolve(surround_soundfile[:, 4], HRTF_upmixed[:, 2], mode='same');\n",
    "backleft_channel = signal.convolve(surround_soundfile[:, 2], HRTF_upmixed[:, 3], mode='same');\n",
    "backright_channel = signal.convolve(surround_soundfile[:, 3], HRTF_upmixed[:, 4], mode='same');\n",
    "lfe_channel = signal.convolve(surround_soundfile[:, 5], HRTF_upmixed[:, 5], mode='same');"
   ]
  },
  {
   "cell_type": "code",
   "execution_count": 99,
   "id": "e0c5717b",
   "metadata": {},
   "outputs": [],
   "source": [
    "# (1) using HRTFs (room processing optional) create a 2-channel .WAV file with the result"
   ]
  },
  {
   "cell_type": "code",
   "execution_count": 100,
   "id": "79e97a61",
   "metadata": {},
   "outputs": [],
   "source": [
    "left_stereo = (frontleft_channel + backleft_channel) / np.sqrt(2);\n",
    "right_stereo = (frontright_channel + backright_channel) / np.sqrt(2);\n",
    "stereo_mix = np.vstack((left_stereo, right_stereo)).T;"
   ]
  },
  {
   "cell_type": "code",
   "execution_count": 101,
   "id": "883634ef",
   "metadata": {},
   "outputs": [],
   "source": [
    "wavfile.write('HZ_2channelwav.wav', sr, stereo_mix);"
   ]
  },
  {
   "cell_type": "code",
   "execution_count": 102,
   "id": "40a1d5c4",
   "metadata": {},
   "outputs": [],
   "source": [
    "# (2) create a stereo downmix .WAV file without the VSS processing - downmix the multi-channels to left/right"
   ]
  },
  {
   "cell_type": "code",
   "execution_count": 103,
   "id": "b780b043",
   "metadata": {},
   "outputs": [],
   "source": [
    "downmix = np.sum(surround_soundfile, axis=1) / 6;\n",
    "downmix_stereo = np.tile(downmix, (2, 1)).T;\n",
    "wavfile.write('HZ_downmix.wav', sr, downmix_stereo);"
   ]
  },
  {
   "cell_type": "code",
   "execution_count": null,
   "id": "f4a67707",
   "metadata": {},
   "outputs": [],
   "source": []
  },
  {
   "cell_type": "code",
   "execution_count": null,
   "id": "2b097893",
   "metadata": {},
   "outputs": [],
   "source": []
  }
 ],
 "metadata": {
  "kernelspec": {
   "display_name": "Python 3 (ipykernel)",
   "language": "python",
   "name": "python3"
  },
  "language_info": {
   "codemirror_mode": {
    "name": "ipython",
    "version": 3
   },
   "file_extension": ".py",
   "mimetype": "text/x-python",
   "name": "python",
   "nbconvert_exporter": "python",
   "pygments_lexer": "ipython3",
   "version": "3.9.12"
  }
 },
 "nbformat": 4,
 "nbformat_minor": 5
}
